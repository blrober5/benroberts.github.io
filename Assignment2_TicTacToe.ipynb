{
 "cells": [
  {
   "cell_type": "markdown",
   "metadata": {},
   "source": [
    "# Python Script to Play Tic-Tac-Toe!\n",
    "\n",
    "### Just Run this Script to Start a 2-Player Game"
   ]
  },
  {
   "cell_type": "code",
   "execution_count": 1,
   "metadata": {},
   "outputs": [],
   "source": [
    "### Read in Libraries and Set Initial, Empty Game Board\n",
    "import numpy as np\n",
    "board_original=[['A1','B1','C1'],['A2','B2','C2'],['A3','B3','C3']]"
   ]
  },
  {
   "cell_type": "code",
   "execution_count": 2,
   "metadata": {},
   "outputs": [],
   "source": [
    "### Function to Initialize Board\n",
    "def initialboard(boardlist):\n",
    "\n",
    "    print(boardlist[0])\n",
    "    print(boardlist[1])\n",
    "    print(boardlist[2])\n",
    "    \n",
    "### Function to For Choosing Correct Player (X or O) Each Turn\n",
    "def chooseplayer(turn):\n",
    "    if (turn+1)%2==1:\n",
    "        player='X'\n",
    "    else:\n",
    "        player='O'\n",
    "    return player\n",
    "\n",
    "### Function to Take and Ensure Valid Move Each Turn\n",
    "def getmove(startboard,taken):\n",
    "    while True:\n",
    "        \n",
    "        position = input( \"Choose a position: \" )\n",
    "        \n",
    "        if position in taken:\n",
    "            print(\"Position already taken, please try again\")\n",
    "        \n",
    "        elif position not in np.array(startboard):\n",
    "            print(\"Invalid position, please try again\")\n",
    "        \n",
    "        else:\n",
    "            taken.append(position)\n",
    "            break\n",
    "    \n",
    "    return position\n",
    "\n",
    "\n",
    "### Function to Determine if a Player Has Won any Given Turn\n",
    "def win(boardlist,index,token):\n",
    "    if boardlist[0][index]==token and boardlist[1][index]==token and boardlist[2][index]==token:\n",
    "        return True\n",
    "    \n",
    "    elif len( set( boardlist[0] ) ) == 1 or len( set( boardlist[1] ) ) == 1 or len( set( boardlist[2] ) )==1:\n",
    "        return True\n",
    "        \n",
    "    elif (boardlist[0][0]==token and boardlist[1][1]==token and boardlist[2][2]==token) | (boardlist[0][2]==token and boardlist[1][1]=='X' and boardlist[2][0]==token):\n",
    "        return True\n",
    "\n",
    "\n",
    "  \n"
   ]
  },
  {
   "cell_type": "code",
   "execution_count": 3,
   "metadata": {},
   "outputs": [],
   "source": [
    "### Function for Playing\n",
    "def tic_tac_toe(startboard):\n",
    "    \n",
    "    # Initialize Empty Board\n",
    "    board=[['A1','B1','C1'],['A2','B2','C2'],['A3','B3','C3']]\n",
    "    initialboard(board)\n",
    "    \n",
    "    # Run through each turn (9 maximum) until someone wins or there is a tie\n",
    "    position_taken=[]\n",
    "    for play in range(9):\n",
    "        \n",
    "        # Set X or O\n",
    "        player=chooseplayer(play)\n",
    "        \n",
    "        # Take Position/Move\n",
    "        position=getmove(startboard,position_taken)\n",
    "    \n",
    "        i1=0\n",
    "        for row in board:\n",
    "            for i in range(len(row)):\n",
    "                if row[i]==position:\n",
    "                    row[i]=player\n",
    "                    i1=i  \n",
    "            print(row)\n",
    "        \n",
    "        # Check if the player has won and, if so, end the game\n",
    "        if win(board,i1,player)==True:\n",
    "            print('Player' + ' ' + str(player) + ' ' + 'Wins!')\n",
    "            break\n",
    "        \n",
    "        # End the game if the board is full and there is a tie\n",
    "        elif play==8:\n",
    "            print('Tie!')\n",
    "            break\n"
   ]
  },
  {
   "cell_type": "code",
   "execution_count": 4,
   "metadata": {},
   "outputs": [
    {
     "name": "stdout",
     "output_type": "stream",
     "text": [
      "['A1', 'B1', 'C1']\n",
      "['A2', 'B2', 'C2']\n",
      "['A3', 'B3', 'C3']\n",
      "Choose a position: A1\n",
      "['X', 'B1', 'C1']\n",
      "['A2', 'B2', 'C2']\n",
      "['A3', 'B3', 'C3']\n",
      "Choose a position: C1\n",
      "['X', 'B1', 'O']\n",
      "['A2', 'B2', 'C2']\n",
      "['A3', 'B3', 'C3']\n",
      "Choose a position: B2\n",
      "['X', 'B1', 'O']\n",
      "['A2', 'X', 'C2']\n",
      "['A3', 'B3', 'C3']\n",
      "Choose a position: C2\n",
      "['X', 'B1', 'O']\n",
      "['A2', 'X', 'O']\n",
      "['A3', 'B3', 'C3']\n",
      "Choose a position: C3\n",
      "['X', 'B1', 'O']\n",
      "['A2', 'X', 'O']\n",
      "['A3', 'B3', 'X']\n",
      "Player X Wins!\n"
     ]
    }
   ],
   "source": [
    "### Play the Game!\n",
    "tic_tac_toe(board_original)"
   ]
  },
  {
   "cell_type": "markdown",
   "metadata": {},
   "source": []
  }
 ],
 "metadata": {
  "kernelspec": {
   "display_name": "Python 3",
   "language": "python",
   "name": "python3"
  },
  "language_info": {
   "codemirror_mode": {
    "name": "ipython",
    "version": 3
   },
   "file_extension": ".py",
   "mimetype": "text/x-python",
   "name": "python",
   "nbconvert_exporter": "python",
   "pygments_lexer": "ipython3",
   "version": "3.7.3"
  }
 },
 "nbformat": 4,
 "nbformat_minor": 2
}
